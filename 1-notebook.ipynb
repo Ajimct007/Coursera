{
 "cells": [
  {
   "cell_type": "markdown",
   "id": "4e19c384-791c-416b-adb6-1763ad20a4a1",
   "metadata": {},
   "source": [
    "# Title - Ajith's Project"
   ]
  },
  {
   "cell_type": "markdown",
   "id": "8c42c784-7c4f-423d-81b2-eb205835de9d",
   "metadata": {},
   "source": [
    "### Introduction\n",
    "- This is my submission for the assessment."
   ]
  },
  {
   "cell_type": "markdown",
   "id": "8b57eb12-51e2-41d9-8f3c-4b659b75cfa9",
   "metadata": {},
   "source": [
    "### Some of the popular languages that Data Scientists use are:\n",
    "\n",
    "- Python\n",
    "- R\n",
    "- SQL\n",
    "- Julia\n",
    "- Scala"
   ]
  },
  {
   "cell_type": "markdown",
   "id": "3fa70ceb-af91-4b89-8d62-0c6190042ac0",
   "metadata": {},
   "source": [
    "### Some of the commonly used libraries used by Data Scientists include:\n",
    "\n",
    "- NumPy\n",
    "\n",
    "- Pandas\n",
    "\n",
    "- Matplotlib\n",
    "\n",
    "- Scikit-learn\n",
    "\n",
    "- TensorFlow  \n",
    "\n",
    "- Keras\n",
    "\n",
    "- PyTorch\n",
    "\n",
    "- Seaborn\n",
    "\n",
    "- Plotly"
   ]
  },
  {
   "cell_type": "markdown",
   "id": "27c5dafd-8d9d-48e6-a00d-b471010a8d3d",
   "metadata": {},
   "source": [
    "## Data Science Tools\r\n",
    "\r\n",
    "| Data Science Tools |\r\n",
    "|--------------------|\r\n",
    "| Jupyter Notebook   |\r\n",
    "| RStudio            |\r\n",
    "| VS Code            |\r\n",
    "|"
   ]
  },
  {
   "cell_type": "markdown",
   "id": "02c1f79b-a554-49cb-9557-53786257f524",
   "metadata": {},
   "source": [
    "### Arthematic"
   ]
  },
  {
   "cell_type": "code",
   "execution_count": 11,
   "id": "7d24ec1e-9901-4bde-8a97-b76d0a5fb00a",
   "metadata": {},
   "outputs": [
    {
     "data": {
      "text/plain": [
       "7"
      ]
     },
     "execution_count": 11,
     "metadata": {},
     "output_type": "execute_result"
    }
   ],
   "source": [
    "3+4"
   ]
  },
  {
   "cell_type": "markdown",
   "id": "e20c0cd0-3b30-4e7a-ba74-21b1b78d8e01",
   "metadata": {},
   "source": [
    "### Multiply and add numbers"
   ]
  },
  {
   "cell_type": "code",
   "execution_count": 14,
   "id": "95418a2c-0f97-48e7-b907-a0e0295d09cd",
   "metadata": {},
   "outputs": [
    {
     "data": {
      "text/plain": [
       "17"
      ]
     },
     "execution_count": 14,
     "metadata": {},
     "output_type": "execute_result"
    }
   ],
   "source": [
    "(3 * 4) + 5"
   ]
  },
  {
   "cell_type": "markdown",
   "id": "2b27b84e-f0be-4daf-ad5d-bdba71433d27",
   "metadata": {},
   "source": [
    "### Convert Min to Hrs"
   ]
  },
  {
   "cell_type": "code",
   "execution_count": 18,
   "id": "334a7e64-9e7b-42cb-b389-ab674a1cfc3b",
   "metadata": {},
   "outputs": [
    {
     "name": "stdin",
     "output_type": "stream",
     "text": [
      "enter number of minutes 245\n"
     ]
    },
    {
     "data": {
      "text/plain": [
       "4.083333333333333"
      ]
     },
     "execution_count": 18,
     "metadata": {},
     "output_type": "execute_result"
    }
   ],
   "source": [
    "mins = int(input(\"enter number of minutes\"))\n",
    "convert_to_hrs = mins/60\n",
    "convert_to_hrs"
   ]
  },
  {
   "cell_type": "markdown",
   "id": "12fd92ec-1d42-44f3-9ed5-cc5b10a696c2",
   "metadata": {},
   "source": [
    "### Objectives:\r\n",
    "\r\n",
    "- List popular languages for Data Science\r\n",
    "- List commonly used libraries for Data Science\r\n",
    "- Describe development environments used for Data Science\r\n",
    "- Evaluate arithmetic expressions in Python\r\n",
    "- Convert minutes to hours in Python\r\n",
    "Python"
   ]
  },
  {
   "cell_type": "markdown",
   "id": "b01c497b-2be5-4bac-9839-95f57494c78b",
   "metadata": {},
   "source": [
    "## Author\n",
    "- Ajithkumar B"
   ]
  },
  {
   "cell_type": "code",
   "execution_count": null,
   "id": "3af3188d-22ab-4aa1-ab31-7178b4afc047",
   "metadata": {},
   "outputs": [],
   "source": []
  }
 ],
 "metadata": {
  "kernelspec": {
   "display_name": "Python 3 (ipykernel)",
   "language": "python",
   "name": "python3"
  },
  "language_info": {
   "codemirror_mode": {
    "name": "ipython",
    "version": 3
   },
   "file_extension": ".py",
   "mimetype": "text/x-python",
   "name": "python",
   "nbconvert_exporter": "python",
   "pygments_lexer": "ipython3",
   "version": "3.12.4"
  }
 },
 "nbformat": 4,
 "nbformat_minor": 5
}
